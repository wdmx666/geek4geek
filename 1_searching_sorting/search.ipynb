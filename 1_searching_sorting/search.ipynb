{
 "cells": [
  {
   "cell_type": "code",
   "execution_count": 101,
   "metadata": {
    "collapsed": true
   },
   "outputs": [
    {
     "data": {
      "text/plain": [
       "4"
      ]
     },
     "execution_count": 101,
     "metadata": {},
     "output_type": "execute_result"
    }
   ],
   "source": [
    "# linearly search,consider as optimization,equation solving\n",
    "# to solve the equation f(i)==constant or min (f(i)-constant)^2\n",
    "# to generate the next solution to fit the constraint\n",
    "\n",
    "\n",
    "def search(arr, x):\n",
    "    for i in range(len(arr)):\n",
    "        if arr[i] == x:\n",
    "            return i\n",
    "    return -1\n",
    "\n",
    "\n",
    "search([1,2,3,4,5,6],5)"
   ]
  },
  {
   "cell_type": "code",
   "execution_count": 105,
   "metadata": {},
   "outputs": [
    {
     "name": "stdout",
     "output_type": "stream",
     "text": [
      "4 3 6\n4 5 4\n5 4 4\n-1\n"
     ]
    }
   ],
   "source": [
    "# 二分查找有序数组,迭代与递归实现\n",
    "\n",
    "\n",
    "def binarySearch(arr, l, r, x):\n",
    "    \"\"\"二分迭代算法的关键是更新左右边界，循环终止条件，满足跳出条件(对于查找就是==)\"\"\"\n",
    "    while l <= r:  # 穷尽所有的终止条件\n",
    "        mid = l+(r-l)//2\n",
    "        if arr[mid] == x:  # 这点很重要，而不是死死等待循环完成找不到跳出，直接检查跳出;检查条件可以换成arr[l]==x,,\n",
    "            return mid     # 值不够其他要跟着变下\n",
    "        elif arr[mid] < x:\n",
    "            l = mid+1\n",
    "        else:\n",
    "            r = mid-1\n",
    "        print(l, mid, r)\n",
    "    return -1\n",
    "\n",
    "# Test array \n",
    "arr = [1, 2, 3, 4, 10, 40, 9] \n",
    "x = 11\n",
    "\n",
    "# Function call \n",
    "result = binarySearch(arr, 0, len(arr)-1, x) \n",
    "print(result)"
   ]
  },
  {
   "cell_type": "code",
   "execution_count": null,
   "metadata": {},
   "outputs": [
    {
     "name": "stdout",
     "output_type": "stream",
     "text": [
      "4 3 6\n4 5 4\n5 4 4\n-1\n"
     ]
    }
   ],
   "source": [
    "\n",
    "\n",
    "def binarySearchRC(arr, l, r, x): \n",
    "    if r >= l: \n",
    "        mid = l + (r - l)//2\n",
    "        # If element is present at the middle itself \n",
    "        if arr[mid] == x: \n",
    "            return mid \n",
    "        # If element is smaller than mid, then it  \n",
    "        # can only be present in left subarray \n",
    "        elif arr[mid] > x: \n",
    "            return binarySearchRC(arr, l, mid-1, x) \n",
    "  \n",
    "        # Else the element can only be present  \n",
    "        # in right subarray \n",
    "        else: \n",
    "            return binarySearchRC(arr, mid+1, r, x) \n",
    "  \n",
    "    else: \n",
    "        # Element is not present in the array \n",
    "        return -1\n",
    "    \n",
    "# Test array \n",
    "arr = [1, 2, 3, 4, 10, 40,60] \n",
    "x = 4\n",
    "\n",
    "# Function call \n",
    "result = binarySearchRC(arr, 0, len(arr)-1, x) \n",
    "result"
   ]
  },
  {
   "cell_type": "code",
   "execution_count": 99,
   "metadata": {},
   "outputs": [
    {
     "data": {
      "text/plain": [
       "4"
      ]
     },
     "execution_count": 99,
     "metadata": {},
     "output_type": "execute_result"
    }
   ],
   "source": [
    "# 修改版\n",
    "\n",
    "def binarySearchRC2(arr, l, r, x): \n",
    "    # Check base case \n",
    "    if r >= l: \n",
    "        mid = l + (r - l)//2\n",
    "        if arr[mid] == x: \n",
    "            return mid \n",
    "        elif arr[mid] < x:\n",
    "            l = mid+1\n",
    "        else:\n",
    "            r = mid-1\n",
    "        return binarySearchRC2(arr, l, r, x) \n",
    "  \n",
    "    else: \n",
    "        return -1\n",
    "    \n",
    "# Test array \n",
    "arr = [1, 2, 3, 4, 10, 40] \n",
    "x = 10\n",
    "\n",
    "# Function call \n",
    "result = binarySearchRC2(arr, 0, len(arr)-1, x) \n",
    "result"
   ]
  },
  {
   "cell_type": "code",
   "execution_count": 108,
   "metadata": {},
   "outputs": [
    {
     "name": "stdout",
     "output_type": "stream",
     "text": [
      "Sorted array\n11\n12\n22\n25\n64\n"
     ]
    }
   ],
   "source": [
    "# Traverse through all array elements \n",
    "A = [64, 25, 12, 22, 11] \n",
    "\n",
    "for i in range(len(A)): \n",
    "      \n",
    "    # Find the minimum element in remaining  \n",
    "    # unsorted array \n",
    "    min_idx = i \n",
    "    for j in range(i+1, len(A)): \n",
    "        if A[min_idx] > A[j]: \n",
    "            min_idx = j \n",
    "              \n",
    "    # Swap the found minimum element with  \n",
    "    # the first element         \n",
    "    A[i], A[min_idx] = A[min_idx], A[i] \n",
    "\n",
    "print (\"Sorted array\") \n",
    "for i in range(len(A)): \n",
    "    print(\"%d\" %A[i]),"
   ]
  },
  {
   "cell_type": "code",
   "execution_count": 130,
   "metadata": {},
   "outputs": [],
   "source": [
    ""
   ]
  },
  {
   "cell_type": "code",
   "execution_count": 131,
   "metadata": {},
   "outputs": [
    {
     "name": "stdout",
     "output_type": "stream",
     "text": [
      "[11, 12, 22, 25, 64] -->  0\n"
     ]
    },
    {
     "data": {
      "text/plain": [
       "0"
      ]
     },
     "execution_count": 131,
     "metadata": {},
     "output_type": "execute_result"
    }
   ],
   "source": [
    "findMinIdx(A)"
   ]
  },
  {
   "cell_type": "code",
   "execution_count": 135,
   "metadata": {},
   "outputs": [
    {
     "name": "stdout",
     "output_type": "stream",
     "text": [
      "[64, 25, 12, 22, 11] -->  4\n[25, 12, 22, 64] -->  1\n[25, 22, 64] -->  1\n[25, 64] -->  0\n[64] -->  0\nSorted array\n11\n12\n22\n25\n64\n"
     ]
    }
   ],
   "source": [
    "def findMinIdx(A):\n",
    "    min_idx = 0\n",
    "    for i in range(len(A)):\n",
    "        if A[i] < A[min_idx]:\n",
    "            min_idx = i\n",
    "    print(A, '--> ', min_idx)\n",
    "    return min_idx\n",
    "\n",
    "A = [64, 25, 12, 22, 11] \n",
    "\n",
    "for i in range(len(A)): \n",
    "      \n",
    "    # Find the minimum element in remaining unsorted array \n",
    "    min_idx = findMinIdx(A[i:])              \n",
    "    # Swap the found minimum element with  the first element         \n",
    "    A[i], A[min_idx+i] = A[min_idx+i], A[i] \n",
    "\n",
    "print (\"Sorted array\") \n",
    "for i in range(len(A)): \n",
    "    print(\"%d\" %A[i]),"
   ]
  },
  {
   "cell_type": "code",
   "execution_count": 142,
   "metadata": {},
   "outputs": [
    {
     "name": "stdout",
     "output_type": "stream",
     "text": [
      "[11, 12, 22, 25, 64]\n[11, 12, 22, 25, 64]\n"
     ]
    }
   ],
   "source": [
    "# 交换排序--冒泡排序\n",
    "A = [64, 25, 12, 22, 11] \n",
    "for i in range(len(A)):\n",
    "    for j in range(1, len(A)-i):  # 最后i个元素已经有序，无必要参与继续交换顺序 \n",
    "        if A[j-1] > A[j]:\n",
    "            tmp = A[j-1]\n",
    "            A[j-1] = A[j]\n",
    "            A[j] = tmp     \n",
    "print(A)       \n",
    "\n",
    "# 交换排序--冒泡排序\n",
    "A = [64, 25, 12, 22, 11] \n",
    "for i in range(len(A)):\n",
    "    swapped = False  # 用于flag某轮是否发生了交换\n",
    "    for j in range(1, len(A)-i):\n",
    "        if A[j-1] > A[j]:\n",
    "            tmp = A[j-1]\n",
    "            A[j-1] = A[j]\n",
    "            A[j] = tmp  \n",
    "            swapped = True\n",
    "    if not swapped:\n",
    "        break\n",
    "print(A)  "
   ]
  },
  {
   "cell_type": "code",
   "execution_count": null,
   "metadata": {},
   "outputs": [
    {
     "data": {
      "text/plain": [
       "[5, 6, 11, 12, 13, 14]"
      ]
     },
     "execution_count": 320,
     "metadata": {},
     "output_type": "execute_result"
    }
   ],
   "source": [
    "def insertionSort(arr): \n",
    "    for i in range(0, len(arr)): \n",
    "        key = arr[i] \n",
    "# Move elements of arr[0..i-1] that are greater than key to one position ahead of their current position \n",
    "        j = i-1\n",
    "        while j >= 0 and key < arr[j]: \n",
    "            arr[j+1] = arr[j] \n",
    "            j -= 1\n",
    "        arr[j+1] = key \n",
    "\n",
    "arr = [14,12, 11, 13, 5, 6] \n",
    "insertionSort(arr) \n",
    "for i in range(len(arr)): \n",
    "    print(\"%d\" % arr[i]) \n"
   ]
  },
  {
   "cell_type": "code",
   "execution_count": 320,
   "metadata": {},
   "outputs": [
    {
     "data": {
      "text/plain": [
       "[5, 6, 11, 12, 13, 14]"
      ]
     },
     "execution_count": 320,
     "metadata": {},
     "output_type": "execute_result"
    }
   ],
   "source": [
    "arr = [14,12, 11, 13, 5, 6] \n",
    "for i in range(0, len(arr)): \n",
    "    key = arr[i] \n",
    "# Move elements of arr[0..i-1] that are greater than key to one position ahead of their current position \n",
    "    j = i-1\n",
    "    while j >= 0 and key < arr[j]: \n",
    "        arr[j+1] = arr[j] \n",
    "        j -= 1\n",
    "    arr[j+1] = key \n",
    "\n",
    "arr"
   ]
  },
  {
   "cell_type": "code",
   "execution_count": 319,
   "metadata": {},
   "outputs": [
    {
     "name": "stdout",
     "output_type": "stream",
     "text": [
      "1 0 12 [12, 14, 11, 13, 5, 6]\n++++++++++++++++++++\n2 0 11 [11, 12, 14, 13, 5, 6]\n++++++++++++++++++++\n3 2 13 [11, 12, 13, 14, 5, 6]\n++++++++++++++++++++\n4 0 5 [5, 11, 12, 13, 14, 6]\n++++++++++++++++++++\n5 1 6 [5, 6, 11, 12, 13, 14]\n++++++++++++++++++++\n"
     ]
    }
   ],
   "source": [
    "arr = [14, 12, 11, 13, 5, 6] \n",
    "\n",
    "# 插入排序的关键就是将未排序的数据，与已经排序的部分比较，放在合适的位置；\n",
    "# 因为已经排序的有序性，因此只需要比较一侧就可以；就升序排列而言，就是将比\n",
    "# 待排序的已经排好的后移，后移采用的方式是从最后一个有序的往后移，因为这样移动方便。\n",
    "for i in range(1, len(arr)):\n",
    "    key = arr[i]\n",
    "    arr[i] = None\n",
    "    j = i-1\n",
    "    for j in range(i-1, -1, -1):\n",
    "        if j >= 0 and (key < arr[j]):\n",
    "            arr[j+1] = arr[j] \n",
    "            arr[j] = None\n",
    "        else:\n",
    "            j += 1\n",
    "            break\n",
    "    arr[j] = key \n",
    "    print(i, j,key, arr)  \n",
    "    print(\"+\"*20)\n"
   ]
  },
  {
   "cell_type": "code",
   "execution_count": 257,
   "metadata": {},
   "outputs": [
    {
     "data": {
      "text/plain": [
       "[10, 9, 8, 7, 6, 5, 4, 3, 2, 1, 0]"
      ]
     },
     "execution_count": 257,
     "metadata": {},
     "output_type": "execute_result"
    }
   ],
   "source": [
    "list(range(10,-1,-1))"
   ]
  },
  {
   "cell_type": "code",
   "execution_count": null,
   "metadata": {},
   "outputs": [],
   "source": []
  }
 ],
 "metadata": {
  "kernelspec": {
   "display_name": "Python 2",
   "language": "python",
   "name": "python2"
  },
  "language_info": {
   "codemirror_mode": {
    "name": "ipython",
    "version": 2
   },
   "file_extension": ".py",
   "mimetype": "text/x-python",
   "name": "python",
   "nbconvert_exporter": "python",
   "pygments_lexer": "ipython2",
   "version": "2.7.6"
  }
 },
 "nbformat": 4,
 "nbformat_minor": 0
}
